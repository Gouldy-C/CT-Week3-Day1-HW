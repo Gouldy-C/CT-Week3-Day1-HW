{
 "cells": [
  {
   "attachments": {},
   "cell_type": "markdown",
   "metadata": {},
   "source": [
    "# Exercise"
   ]
  },
  {
   "attachments": {},
   "cell_type": "markdown",
   "metadata": {},
   "source": [
    "### Exercise 1 - Turn the shopping cart program from yesterday into an object-oriented program\n",
    "\n",
    "The comments in the cell below are there as a guide for thinking about the problem. However, if you feel a different way is best for you and your own thought process, please do what feels best for you by all means."
   ]
  },
  {
   "cell_type": "code",
   "execution_count": 5,
   "metadata": {},
   "outputs": [
    {
     "name": "stdout",
     "output_type": "stream",
     "text": [
      "------------------------\n",
      "\n"
     ]
    }
   ],
   "source": [
    "import json\n",
    "from pprint import pprint\n",
    "\n",
    "class ShoppingCart():\n",
    "    shopping_cart = {}\n",
    "    \n",
    "    def __init__(self):\n",
    "        json_data=open('MOCK_DATA.json')\n",
    "        self.data = json.load(json_data)\n",
    "        json_data.close()\n",
    "        self.main_menu()\n",
    "    \n",
    "    def main_menu(self):\n",
    "        while True:\n",
    "            response = input('\\nWould you like to view list, add to list, remove from list, or quit? [show/add/remove/quit]: ')\n",
    "            if response.lower() == 'add' or response.lower() == 'a':\n",
    "                self.addItem()\n",
    "            elif response.lower() == 'remove' or response.lower() == 'r':\n",
    "                self.removeItem()\n",
    "            elif response.lower() == 'show' or response.lower() == 's':\n",
    "                self.printCart()\n",
    "            elif response.lower() == 'quit' or response.lower() == 'q':\n",
    "                self.printCart()\n",
    "                break\n",
    "            else:\n",
    "                print(\"\\nPlease enter a valid response to the questions.\\n\")\n",
    "    \n",
    "    def addItem(self):\n",
    "        while True:\n",
    "            item = input('\\nWhat would you like to add to your shopping list?: [item] or [done] ').title()\n",
    "            if item == 'Done':\n",
    "                break\n",
    "            while True:\n",
    "                try:\n",
    "                    qty = int(input('\\nHow many do you need?: [qty] '))\n",
    "                    break\n",
    "                except:\n",
    "                    print(\"Please enter a valid integer quantity\")\n",
    "                    \n",
    "            price = self.search_data(item)\n",
    "            self.shopping_cart[item.title()] = {'qty' : qty,\n",
    "                                                'price': price}\n",
    "    \n",
    "    def removeItem(self):\n",
    "        item = input('\\nWhat would you like to remove from your shopping list?: [item] ').title()\n",
    "        try:\n",
    "            self.shopping_cart.pop(item)\n",
    "            print(f\"{item} was removed.\\n\")\n",
    "            print(f\"------------------------\\n\")\n",
    "        except:\n",
    "            print(f\"{item} is not in your shopping list.\\n\")\n",
    "            print(f\"------------------------\\n\")\n",
    "    \n",
    "    def printCart(self):\n",
    "        for key, value in self.shopping_cart.items():\n",
    "            print(f\"{key}: {value['qty']} quantity at {value['price']} per\")\n",
    "        print(f\"------------------------\\n\")\n",
    "    \n",
    "    def search_data(self, item):\n",
    "        for a in self.data:\n",
    "            if item in a[\"product_name\"]:\n",
    "                return a[\"product_price\"]\n",
    "        return 'N/A'\n",
    "\n",
    "christian_shopping_cart = ShoppingCart()"
   ]
  },
  {
   "attachments": {},
   "cell_type": "markdown",
   "metadata": {},
   "source": [
    "### Exercise 2 - Write a Python class which has two methods get_String and print_String. get_String accept a string from the user and print_String print the string in upper case\n"
   ]
  },
  {
   "cell_type": "code",
   "execution_count": 4,
   "metadata": {},
   "outputs": [
    {
     "name": "stdout",
     "output_type": "stream",
     "text": [
      "BLUE PINEAPPLE\n"
     ]
    }
   ],
   "source": [
    "class Get_input():\n",
    "    \n",
    "    def __init__(self):\n",
    "        self.print_string()\n",
    "    \n",
    "    def get_string(self):\n",
    "        return input('Give me a phrase, any phrase will do: ')\n",
    "    \n",
    "    def print_string(self):\n",
    "        print(self.get_string().upper())\n",
    "\n",
    "string1 = Get_input()\n"
   ]
  }
 ],
 "metadata": {
  "kernelspec": {
   "display_name": "Python 3",
   "language": "python",
   "name": "python3"
  },
  "language_info": {
   "codemirror_mode": {
    "name": "ipython",
    "version": 3
   },
   "file_extension": ".py",
   "mimetype": "text/x-python",
   "name": "python",
   "nbconvert_exporter": "python",
   "pygments_lexer": "ipython3",
   "version": "3.11.2"
  },
  "orig_nbformat": 4
 },
 "nbformat": 4,
 "nbformat_minor": 2
}
